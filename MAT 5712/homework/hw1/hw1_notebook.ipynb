{
 "cells": [
  {
   "cell_type": "markdown",
   "metadata": {},
   "source": [
    "# Problem 1\n"
   ]
  },
  {
   "cell_type": "code",
   "execution_count": 257,
   "metadata": {},
   "outputs": [],
   "source": [
    "import time"
   ]
  },
  {
   "cell_type": "code",
   "execution_count": 258,
   "metadata": {},
   "outputs": [],
   "source": [
    "lambda_f = lambda x: x**3 if x >= 0 else 0"
   ]
  },
  {
   "cell_type": "code",
   "execution_count": 259,
   "metadata": {},
   "outputs": [],
   "source": [
    "def def_f(x):\n",
    "    if x >= 0:\n",
    "        return x**3\n",
    "    else:\n",
    "        return 0"
   ]
  },
  {
   "cell_type": "code",
   "execution_count": 260,
   "metadata": {},
   "outputs": [],
   "source": [
    "x_vals = range(-10000, 10000+1)"
   ]
  },
  {
   "cell_type": "code",
   "execution_count": 261,
   "metadata": {},
   "outputs": [],
   "source": [
    "start_lambda = time.time()\n",
    "results_lambda = [lambda_f(x) for x in x_vals]\n",
    "end_lambda = time.time()"
   ]
  },
  {
   "cell_type": "code",
   "execution_count": 262,
   "metadata": {},
   "outputs": [],
   "source": [
    "start_def = time.time()\n",
    "results_def = [def_f(x) for x in x_vals]\n",
    "end_def = time.time()"
   ]
  },
  {
   "cell_type": "code",
   "execution_count": 263,
   "metadata": {},
   "outputs": [
    {
     "name": "stdout",
     "output_type": "stream",
     "text": [
      "Lambda Time: 0.0029990673065185547 s \n",
      "Def Time: 0.002998828887939453 s\n"
     ]
    }
   ],
   "source": [
    "print(f\"Lambda Time: {end_lambda - start_lambda} s \")\n",
    "print(f\"Def Time: {end_def - start_def} s\")"
   ]
  },
  {
   "cell_type": "markdown",
   "metadata": {},
   "source": [
    "# Problem 2"
   ]
  },
  {
   "cell_type": "markdown",
   "metadata": {},
   "source": [
    "In this section, I first show a, then show b, the modify b, then show a to show it hasn't been modified. I do this for both methods"
   ]
  },
  {
   "cell_type": "code",
   "execution_count": 264,
   "metadata": {},
   "outputs": [
    {
     "name": "stdout",
     "output_type": "stream",
     "text": [
      "[1, 2, 3, 4, 5]\n"
     ]
    }
   ],
   "source": [
    "a = [1, 2, 3, 4, 5]\n",
    "print(a)"
   ]
  },
  {
   "cell_type": "markdown",
   "metadata": {},
   "source": [
    "## Method 1"
   ]
  },
  {
   "cell_type": "code",
   "execution_count": 265,
   "metadata": {},
   "outputs": [],
   "source": [
    "b = []\n",
    "for val in a:\n",
    "    b.append(val)"
   ]
  },
  {
   "cell_type": "code",
   "execution_count": 266,
   "metadata": {},
   "outputs": [
    {
     "name": "stdout",
     "output_type": "stream",
     "text": [
      "b:\n",
      "[1, 2, 3, 4, 5]\n",
      "new b:\n",
      "[7, 2, 3, 4, 5]\n",
      "a\n",
      "[1, 2, 3, 4, 5]\n"
     ]
    }
   ],
   "source": [
    "print(\"b:\")\n",
    "print(b)\n",
    "b[0] = 7\n",
    "print(\"new b:\")\n",
    "print(b)\n",
    "print(\"a\")\n",
    "print(a)"
   ]
  },
  {
   "cell_type": "markdown",
   "metadata": {},
   "source": [
    "## Method 2"
   ]
  },
  {
   "cell_type": "code",
   "execution_count": 267,
   "metadata": {},
   "outputs": [],
   "source": [
    "b = list(a)\n"
   ]
  },
  {
   "cell_type": "code",
   "execution_count": 268,
   "metadata": {},
   "outputs": [
    {
     "name": "stdout",
     "output_type": "stream",
     "text": [
      "b:\n",
      "[1, 2, 3, 4, 5]\n",
      "new b:\n",
      "[7, 2, 3, 4, 5]\n",
      "a\n",
      "[1, 2, 3, 4, 5]\n"
     ]
    }
   ],
   "source": [
    "print(\"b:\")\n",
    "print(b)\n",
    "b[0] = 7\n",
    "print(\"new b:\")\n",
    "print(b)\n",
    "print(\"a\")\n",
    "print(a)"
   ]
  },
  {
   "cell_type": "markdown",
   "metadata": {},
   "source": [
    "# Problem 3"
   ]
  },
  {
   "cell_type": "code",
   "execution_count": 269,
   "metadata": {},
   "outputs": [],
   "source": [
    "import csv"
   ]
  },
  {
   "cell_type": "code",
   "execution_count": 270,
   "metadata": {},
   "outputs": [],
   "source": [
    "stock_data = {}\n",
    "\n",
    "with open('pbm3.csv', mode='r') as file:\n",
    "\n",
    "    csv_reader = csv.reader(file)\n",
    "    \n",
    "    next(csv_reader) # skip first line\n",
    "\n",
    "    for row in csv_reader:\n",
    "\n",
    "        symbol = row[0]\n",
    "        m_cap = row[1]\n",
    "        \n",
    "        stock_data[symbol] = m_cap\n"
   ]
  },
  {
   "cell_type": "code",
   "execution_count": 271,
   "metadata": {},
   "outputs": [
    {
     "name": "stdout",
     "output_type": "stream",
     "text": [
      "{'ACN': '1.97929E+11', 'ACNB': '318953126', 'ACNT': '104183544', 'ACON': '2302722', 'ACONW': '311733'}\n"
     ]
    }
   ],
   "source": [
    "print(stock_data)"
   ]
  }
 ],
 "metadata": {
  "kernelspec": {
   "display_name": "base",
   "language": "python",
   "name": "python3"
  },
  "language_info": {
   "codemirror_mode": {
    "name": "ipython",
    "version": 3
   },
   "file_extension": ".py",
   "mimetype": "text/x-python",
   "name": "python",
   "nbconvert_exporter": "python",
   "pygments_lexer": "ipython3",
   "version": "3.11.4"
  }
 },
 "nbformat": 4,
 "nbformat_minor": 2
}
